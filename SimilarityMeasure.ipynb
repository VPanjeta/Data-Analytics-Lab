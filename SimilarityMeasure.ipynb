{
 "cells": [
  {
   "cell_type": "markdown",
   "metadata": {},
   "source": [
    "# Data Analytics Lab Project\n",
    "\n",
    "#### Samridh Dokania 1MS14CS108\n",
    "#### Vishal Panjeta 1MS14CS140\n",
    "\n",
    "###### Problem Statement : Given a new Course Outcome and a list of Course Outcomes mapped to Program Outcomes, map the new Course Outcome to Program Outcomes"
   ]
  },
  {
   "cell_type": "code",
   "execution_count": 1,
   "metadata": {},
   "outputs": [],
   "source": [
    "# Import the necessary libraries\n",
    "from nltk import word_tokenize, pos_tag\n",
    "from nltk.corpus import wordnet as wn\n",
    "from pprint import pprint\n",
    "from Outcomes import *"
   ]
  },
  {
   "cell_type": "code",
   "execution_count": 2,
   "metadata": {},
   "outputs": [
    {
     "data": {
      "text/plain": [
       "'Getting to know about the structure of a database, being added to:DA'"
      ]
     },
     "execution_count": 2,
     "metadata": {},
     "output_type": "execute_result"
    }
   ],
   "source": [
    "New_CO = \"Getting to know about the structure of a database\"\n",
    "#^ The new CO  \n",
    "\n",
    "subject = \"DA\"\n",
    "#^ Subject the new CO it is supposed to be mapped to\n",
    "\n",
    "New_CO + \", being added to:\" + subject"
   ]
  },
  {
   "cell_type": "code",
   "execution_count": 3,
   "metadata": {},
   "outputs": [],
   "source": [
    "POs = getPOs()\n",
    "#^ Getting the Program Outcomes\n",
    "\n",
    "COs = getCOs()[subject]\n",
    "#^ Getting the existing Course outcomes of the subject\n",
    "\n",
    "scoreDict = {}"
   ]
  },
  {
   "cell_type": "code",
   "execution_count": 4,
   "metadata": {},
   "outputs": [
    {
     "data": {
      "text/plain": [
       "'Functions initialised succesfully'"
      ]
     },
     "execution_count": 4,
     "metadata": {},
     "output_type": "execute_result"
    }
   ],
   "source": [
    "def penn_to_wn(tag):\n",
    "    # Function to change tags of the synsets\n",
    "    if tag.startswith('N'):\n",
    "        return 'n'\n",
    " \n",
    "    if tag.startswith('V'):\n",
    "        return 'v'\n",
    " \n",
    "    if tag.startswith('J'):\n",
    "        return 'a'\n",
    " \n",
    "    if tag.startswith('R'):\n",
    "        return 'r'\n",
    " \n",
    "    return None\n",
    "\n",
    "def tagged_to_synset(word, tag):\n",
    "    # Add synset tags to the words\n",
    "    wn_tag = penn_to_wn(tag)\n",
    "    if wn_tag is None:\n",
    "        return None\n",
    " \n",
    "    try:\n",
    "        return wn.synsets(word, wn_tag)[0]\n",
    "    except:\n",
    "        return None\n",
    "\n",
    "def sentence_similarity(sentence1, sentence2):\n",
    "    # Function to calculate the similarity score between new CO and a given CO \n",
    "    \n",
    "    global scoreDict \n",
    "    synsets1 = [tagged_to_synset(*tagged_word) for tagged_word in pos_tag(word_tokenize(sentence1))]\n",
    "    synsets2 = [tagged_to_synset(*tagged_word) for tagged_word in pos_tag(word_tokenize(sentence2))]\n",
    " \n",
    "    synsets1 = [ss for ss in synsets1 if ss]\n",
    "    synsets2 = [ss for ss in synsets2 if ss]\n",
    " \n",
    "    score, count = 0.0, 0\n",
    "    #^ Varibales for counting and scoring\n",
    " \n",
    "    for synset in synsets1:\n",
    "        best_score = max([synset.path_similarity(ss) for ss in synsets2])\n",
    " \n",
    "        if best_score is not None:\n",
    "            score += best_score\n",
    "            count += 1\n",
    " \n",
    "    score /= count\n",
    "    return score\n",
    "\n",
    "def symmetric_sentence_similarity(sentence1, sentence2):\n",
    "    # Function to calculate symmetric similarity i.e. similarity (s1, s2) == similarity(s2, s1)\n",
    "    return (sentence_similarity(sentence1, sentence2) + sentence_similarity(sentence2, sentence1)) / 2 \n",
    "\n",
    "\"Functions initialised succesfully\""
   ]
  },
  {
   "cell_type": "code",
   "execution_count": 5,
   "metadata": {},
   "outputs": [
    {
     "data": {
      "text/plain": [
       "[('Analyse the different types of data pre processing techniques involved in management of data',\n",
       "  [2, 3, 5]),\n",
       " ('Demonstrate the different classes of analytical techniques (basic and advanced statistics) using R',\n",
       "  [1, 2, 3, 5]),\n",
       " ('Demonstrate the usage of graphical analysis of data using R',\n",
       "  [1, 2, 3, 5, 12]),\n",
       " ('Recognize the need for data analytical applications', [2, 3, 5]),\n",
       " ('Understand the different types of data and its structure', [2, 3, 5])]"
      ]
     },
     "execution_count": 5,
     "metadata": {},
     "output_type": "execute_result"
    }
   ],
   "source": [
    "for CO in COs.keys():\n",
    "    # Calculate the score of New CO in respect to similarities with the existing COs\n",
    "    score = symmetric_sentence_similarity(New_CO, CO)\n",
    "    scoreDict[score] = (CO, COs[CO])\n",
    "\n",
    "sorted(scoreDict.values(), key = lambda x : x[0])"
   ]
  },
  {
   "cell_type": "code",
   "execution_count": 6,
   "metadata": {},
   "outputs": [
    {
     "name": "stdout",
     "output_type": "stream",
     "text": [
      "'Understand the different types of data and its structure (score = 0.41587)'\n",
      "'Demonstrate the usage of graphical analysis of data using R (score = 0.19334)'\n",
      "'Demonstrate the different classes of analytical techniques (basic and advanced statistics) using R (score = 0.19159)'\n"
     ]
    }
   ],
   "source": [
    "for x in sorted(scoreDict.keys(), reverse = True)[:3]:\n",
    "    pprint (\"%s (score = %.5f)\" %(scoreDict[x][0], x))\n",
    "#^ prints the closest CO to the new CO in the given subject and their relative similarity score"
   ]
  },
  {
   "cell_type": "code",
   "execution_count": 7,
   "metadata": {},
   "outputs": [
    {
     "name": "stdout",
     "output_type": "stream",
     "text": [
      "'Mapped Program Outcomes are:'\n",
      "'PO2 : Problem analysis: Identify, formulate, review research literature, and analyze complex engineering problems reaching substantiated conclusions using first principles of mathematics, natural sciences, and engineering sciences.'\n",
      "'PO3 : Design/development of solutions: Design solutions for complex engineering problems and design system components or processes that meet the specified needs with appropriate consideration for the public health and safety, and the cultural, societal, and environmental considerations. '\n",
      "'PO5 : Modern tool usage: Create, select, and apply appropriate techniques, resources, and modern engineering and IT tools including prediction and modeling to complex engineering activities with an understanding of the limitations.'\n"
     ]
    }
   ],
   "source": [
    "pprint('Mapped Program Outcomes are:')\n",
    "for PO in scoreDict[max(scoreDict.keys())][1]:\n",
    "    pprint(\"PO\" + str(PO) + \" : \" + POs[PO - 1])\n",
    "#^"
   ]
  },
  {
   "cell_type": "code",
   "execution_count": null,
   "metadata": {},
   "outputs": [],
   "source": []
  }
 ],
 "metadata": {
  "kernelspec": {
   "display_name": "Python 2",
   "language": "python",
   "name": "python2"
  },
  "language_info": {
   "codemirror_mode": {
    "name": "ipython",
    "version": 2
   },
   "file_extension": ".py",
   "mimetype": "text/x-python",
   "name": "python",
   "nbconvert_exporter": "python",
   "pygments_lexer": "ipython2",
   "version": "2.7.12"
  }
 },
 "nbformat": 4,
 "nbformat_minor": 2
}
